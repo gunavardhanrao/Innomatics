{
  "nbformat": 4,
  "nbformat_minor": 0,
  "metadata": {
    "colab": {
      "provenance": [],
      "authorship_tag": "ABX9TyOcuKNsNNfjrARoaTt540Qb",
      "include_colab_link": true
    },
    "kernelspec": {
      "name": "python3",
      "display_name": "Python 3"
    },
    "language_info": {
      "name": "python"
    }
  },
  "cells": [
    {
      "cell_type": "markdown",
      "metadata": {
        "id": "view-in-github",
        "colab_type": "text"
      },
      "source": [
        "<a href=\"https://colab.research.google.com/github/gunavardhanrao/Innomatics/blob/main/lambdaFunctions.ipynb\" target=\"_parent\"><img src=\"https://colab.research.google.com/assets/colab-badge.svg\" alt=\"Open In Colab\"/></a>"
      ]
    },
    {
      "cell_type": "markdown",
      "source": [
        "### Lambda Function"
      ],
      "metadata": {
        "id": "wYRhn3nlQTaG"
      }
    },
    {
      "cell_type": "markdown",
      "source": [
        "* Nameless function\n",
        "* generally written in a single line.\n",
        "* by default a lambda function will return a value there is no need to write a written statement\n",
        "* No cap on number of arguments to be used\n",
        "\n",
        "**Note: Generally lambda functions are used as an input for higher order functions**"
      ],
      "metadata": {
        "id": "FW-EBUqeQwo_"
      }
    },
    {
      "cell_type": "markdown",
      "source": [
        "        **Syntax:**\n",
        "\n",
        "        lambda atribute1, attribute2 ... : statement using the attributes\n",
        "\n",
        "        ex: def foo(x):\n",
        "\n",
        "            return x**(1/3)   \n",
        "\n",
        "            whereas,\n",
        "\n",
        "            lambda x : x**(1/3)\n",
        "\n",
        "            Calling Lamda function : Two ways\n",
        "\n",
        "            1. foo1 = (lambda x : x**(1/3))\n",
        "                    foo1(27)\n",
        "\n",
        "            2 . (lambda x : x**(1/3)(27)"
      ],
      "metadata": {
        "id": "I0vE12UmReuF"
      }
    },
    {
      "cell_type": "code",
      "source": [
        "f = (lambda x : x**(1/3))"
      ],
      "metadata": {
        "id": "KcjCZYKsR0is"
      },
      "execution_count": null,
      "outputs": []
    },
    {
      "cell_type": "code",
      "source": [
        "print(f, type(f) , sep = '\\n')"
      ],
      "metadata": {
        "colab": {
          "base_uri": "https://localhost:8080/"
        },
        "id": "GgosnQudUwDs",
        "outputId": "9346122d-f6b9-4a55-a936-a32ccde6d9f0"
      },
      "execution_count": null,
      "outputs": [
        {
          "output_type": "stream",
          "name": "stdout",
          "text": [
            "<function <lambda> at 0x7f3264149ab0>\n",
            "<class 'function'>\n"
          ]
        }
      ]
    },
    {
      "cell_type": "code",
      "source": [
        "f(125)"
      ],
      "metadata": {
        "colab": {
          "base_uri": "https://localhost:8080/"
        },
        "id": "WMGKx7TcU0qH",
        "outputId": "81eaaab0-75f0-407d-d3a7-8ad28f203b24"
      },
      "execution_count": null,
      "outputs": [
        {
          "output_type": "execute_result",
          "data": {
            "text/plain": [
              "4.999999999999999"
            ]
          },
          "metadata": {},
          "execution_count": 4
        }
      ]
    },
    {
      "cell_type": "code",
      "source": [
        "# working with more than one parameter\n",
        "(lambda x1, x2: x1**x2)(3, 2)"
      ],
      "metadata": {
        "colab": {
          "base_uri": "https://localhost:8080/"
        },
        "id": "3rR_-XP9U3Ot",
        "outputId": "2afad993-9f14-4f1f-c9b4-a349ab383228"
      },
      "execution_count": null,
      "outputs": [
        {
          "output_type": "execute_result",
          "data": {
            "text/plain": [
              "9"
            ]
          },
          "metadata": {},
          "execution_count": 5
        }
      ]
    },
    {
      "cell_type": "markdown",
      "source": [
        "**Using default , keyword or arbitary arguments with lambda functions**"
      ],
      "metadata": {
        "id": "7coFafNXVUnX"
      }
    },
    {
      "cell_type": "code",
      "source": [
        "(lambda x, y = 2 : x**y)(2)"
      ],
      "metadata": {
        "colab": {
          "base_uri": "https://localhost:8080/"
        },
        "id": "gVS010ZjVvzs",
        "outputId": "1b508922-3bae-40d7-af4e-7e56f0feaeff"
      },
      "execution_count": null,
      "outputs": [
        {
          "output_type": "execute_result",
          "data": {
            "text/plain": [
              "4"
            ]
          },
          "metadata": {},
          "execution_count": 6
        }
      ]
    },
    {
      "cell_type": "code",
      "source": [
        "(lambda x, y = 2 : x**y)(2,3)"
      ],
      "metadata": {
        "colab": {
          "base_uri": "https://localhost:8080/"
        },
        "id": "6VdYM-JsV5_6",
        "outputId": "0c6c4542-ee11-4bfc-fc63-baaab93d0da1"
      },
      "execution_count": null,
      "outputs": [
        {
          "output_type": "execute_result",
          "data": {
            "text/plain": [
              "8"
            ]
          },
          "metadata": {},
          "execution_count": 7
        }
      ]
    },
    {
      "cell_type": "code",
      "source": [
        "(lambda x, y = 2 : x**y)(y = 4, x = 3)"
      ],
      "metadata": {
        "colab": {
          "base_uri": "https://localhost:8080/"
        },
        "id": "Y5qitsxFV849",
        "outputId": "a5f545a0-6bfc-42ea-d570-f2445797404c"
      },
      "execution_count": null,
      "outputs": [
        {
          "output_type": "execute_result",
          "data": {
            "text/plain": [
              "81"
            ]
          },
          "metadata": {},
          "execution_count": 8
        }
      ]
    },
    {
      "cell_type": "code",
      "source": [
        "# using arbitary positional arguments\n",
        "\n",
        "(lambda *x :[ele for ele in x if ele%2 == 0])(1,10,2,21)"
      ],
      "metadata": {
        "colab": {
          "base_uri": "https://localhost:8080/"
        },
        "id": "L8OAG07fWCzN",
        "outputId": "ea1c7985-7704-476f-c18d-3e6429698d22"
      },
      "execution_count": null,
      "outputs": [
        {
          "output_type": "execute_result",
          "data": {
            "text/plain": [
              "[10, 2]"
            ]
          },
          "metadata": {},
          "execution_count": 9
        }
      ]
    },
    {
      "cell_type": "code",
      "source": [
        "(lambda *x :[ele for ele in x if ele%2 == 0])(*[5, 7, 8,61, 52])"
      ],
      "metadata": {
        "colab": {
          "base_uri": "https://localhost:8080/"
        },
        "id": "c7Im3SxmWnnz",
        "outputId": "8f12e8cc-71d7-4d2c-f50e-1f9bc504919c"
      },
      "execution_count": null,
      "outputs": [
        {
          "output_type": "execute_result",
          "data": {
            "text/plain": [
              "[8, 52]"
            ]
          },
          "metadata": {},
          "execution_count": 10
        }
      ]
    },
    {
      "cell_type": "markdown",
      "source": [
        "lambda function will return one value if we want more than one we can pack it in a tuple and later unpack it as below"
      ],
      "metadata": {
        "id": "nNVCaJdFW21U"
      }
    },
    {
      "cell_type": "code",
      "source": [
        "(lambda x,y : (x+y, y-x))(5, 2)"
      ],
      "metadata": {
        "colab": {
          "base_uri": "https://localhost:8080/"
        },
        "id": "aO6IJDtZXrw3",
        "outputId": "1f3bbf4d-9a93-4824-a2c1-854dc5f3efc7"
      },
      "execution_count": null,
      "outputs": [
        {
          "output_type": "execute_result",
          "data": {
            "text/plain": [
              "(7, -3)"
            ]
          },
          "metadata": {},
          "execution_count": 11
        }
      ]
    },
    {
      "cell_type": "code",
      "source": [
        "(lambda x,y : x+y, y-x)(5, 2)"
      ],
      "metadata": {
        "colab": {
          "base_uri": "https://localhost:8080/",
          "height": 211
        },
        "id": "qMQn8L6aXzC8",
        "outputId": "d2849b88-5082-49d0-bada-0ba3cdcfdc34"
      },
      "execution_count": null,
      "outputs": [
        {
          "output_type": "stream",
          "name": "stderr",
          "text": [
            "<>:1: SyntaxWarning: 'tuple' object is not callable; perhaps you missed a comma?\n",
            "<>:1: SyntaxWarning: 'tuple' object is not callable; perhaps you missed a comma?\n",
            "<ipython-input-12-f32e6c9ddb70>:1: SyntaxWarning: 'tuple' object is not callable; perhaps you missed a comma?\n",
            "  (lambda x,y : x+y, y-x)(5, 2)\n"
          ]
        },
        {
          "output_type": "error",
          "ename": "NameError",
          "evalue": "name 'y' is not defined",
          "traceback": [
            "\u001b[0;31m---------------------------------------------------------------------------\u001b[0m",
            "\u001b[0;31mNameError\u001b[0m                                 Traceback (most recent call last)",
            "\u001b[0;32m<ipython-input-12-f32e6c9ddb70>\u001b[0m in \u001b[0;36m<cell line: 1>\u001b[0;34m()\u001b[0m\n\u001b[0;32m----> 1\u001b[0;31m \u001b[0;34m(\u001b[0m\u001b[0;32mlambda\u001b[0m \u001b[0mx\u001b[0m\u001b[0;34m,\u001b[0m\u001b[0my\u001b[0m \u001b[0;34m:\u001b[0m \u001b[0mx\u001b[0m\u001b[0;34m+\u001b[0m\u001b[0my\u001b[0m\u001b[0;34m,\u001b[0m \u001b[0my\u001b[0m\u001b[0;34m-\u001b[0m\u001b[0mx\u001b[0m\u001b[0;34m)\u001b[0m\u001b[0;34m(\u001b[0m\u001b[0;36m5\u001b[0m\u001b[0;34m,\u001b[0m \u001b[0;36m2\u001b[0m\u001b[0;34m)\u001b[0m\u001b[0;34m\u001b[0m\u001b[0;34m\u001b[0m\u001b[0m\n\u001b[0m",
            "\u001b[0;31mNameError\u001b[0m: name 'y' is not defined"
          ]
        }
      ]
    },
    {
      "cell_type": "code",
      "source": [
        "# using with arbitary keyword arguments\n",
        "(lambda **x : [k : (sum(v)/len(v))] for k,v in x.items())()"
      ],
      "metadata": {
        "colab": {
          "base_uri": "https://localhost:8080/",
          "height": 106
        },
        "id": "BpHblIExX28U",
        "outputId": "28ca9dc2-54c1-4915-c383-0e7e0ebe8fa3"
      },
      "execution_count": null,
      "outputs": [
        {
          "output_type": "error",
          "ename": "SyntaxError",
          "evalue": "invalid syntax (<ipython-input-14-2a96ea811e39>, line 2)",
          "traceback": [
            "\u001b[0;36m  File \u001b[0;32m\"<ipython-input-14-2a96ea811e39>\"\u001b[0;36m, line \u001b[0;32m2\u001b[0m\n\u001b[0;31m    (lambda **x :for k,v in x.items())(5,10)\u001b[0m\n\u001b[0m                 ^\u001b[0m\n\u001b[0;31mSyntaxError\u001b[0m\u001b[0;31m:\u001b[0m invalid syntax\n"
          ]
        }
      ]
    },
    {
      "cell_type": "markdown",
      "source": [
        "### Map(), filter(), reduce()\n",
        "**These are three built in higher order functions(classes)**\n",
        "\n",
        "### Map()\n",
        "* Built in class, which takes a function and an iterator and maps the functionality of the input function to every element of the iterator.\n",
        "* It returns a map object.\n",
        "\n",
        "        syntax:\n",
        "        map(func, iteartor) ---> map object"
      ],
      "metadata": {
        "id": "gmLMVGhHZbDn"
      }
    },
    {
      "cell_type": "code",
      "source": [
        "# map()\n",
        "\n",
        "y = (lambda x : x**2, [1,2,3,4])\n",
        "print(y, type(y), sep = '\\n')"
      ],
      "metadata": {
        "id": "SpV63opabLmp"
      },
      "execution_count": null,
      "outputs": []
    },
    {
      "cell_type": "markdown",
      "source": [
        "**Note**\n",
        "\n",
        "**map object is a kind of a generator which has the functionality of function applied to values of iterator.**\n",
        "\n",
        " **It does not apply functionality and store the values either it will be ready to apply functionality and when we typecast or call the values it will then apply functionality and give the values**"
      ],
      "metadata": {
        "id": "mB6UR4Q0c9cR"
      }
    },
    {
      "cell_type": "code",
      "source": [
        "(lambda x : 1/x)(0)"
      ],
      "metadata": {
        "colab": {
          "base_uri": "https://localhost:8080/",
          "height": 193
        },
        "id": "VPXl9Ckzd-c0",
        "outputId": "e297e934-d263-4030-da8a-0f2710e73839"
      },
      "execution_count": null,
      "outputs": [
        {
          "output_type": "error",
          "ename": "ZeroDivisionError",
          "evalue": "division by zero",
          "traceback": [
            "\u001b[0;31m---------------------------------------------------------------------------\u001b[0m",
            "\u001b[0;31mZeroDivisionError\u001b[0m                         Traceback (most recent call last)",
            "\u001b[0;32m<ipython-input-15-52047f8ff52f>\u001b[0m in \u001b[0;36m<cell line: 1>\u001b[0;34m()\u001b[0m\n\u001b[0;32m----> 1\u001b[0;31m \u001b[0;34m(\u001b[0m\u001b[0;32mlambda\u001b[0m \u001b[0mx\u001b[0m \u001b[0;34m:\u001b[0m \u001b[0;36m1\u001b[0m\u001b[0;34m/\u001b[0m\u001b[0mx\u001b[0m\u001b[0;34m)\u001b[0m\u001b[0;34m(\u001b[0m\u001b[0;36m0\u001b[0m\u001b[0;34m)\u001b[0m\u001b[0;34m\u001b[0m\u001b[0;34m\u001b[0m\u001b[0m\n\u001b[0m",
            "\u001b[0;32m<ipython-input-15-52047f8ff52f>\u001b[0m in \u001b[0;36m<lambda>\u001b[0;34m(x)\u001b[0m\n\u001b[0;32m----> 1\u001b[0;31m \u001b[0;34m(\u001b[0m\u001b[0;32mlambda\u001b[0m \u001b[0mx\u001b[0m \u001b[0;34m:\u001b[0m \u001b[0;36m1\u001b[0m\u001b[0;34m/\u001b[0m\u001b[0mx\u001b[0m\u001b[0;34m)\u001b[0m\u001b[0;34m(\u001b[0m\u001b[0;36m0\u001b[0m\u001b[0;34m)\u001b[0m\u001b[0;34m\u001b[0m\u001b[0;34m\u001b[0m\u001b[0m\n\u001b[0m",
            "\u001b[0;31mZeroDivisionError\u001b[0m: division by zero"
          ]
        }
      ]
    },
    {
      "cell_type": "code",
      "source": [
        "z = map(lambda x : 1/x, [10, 5, 2, 0]) # here we won't get the error at first\n",
        "print(z, type(z), sep = '\\n')"
      ],
      "metadata": {
        "colab": {
          "base_uri": "https://localhost:8080/"
        },
        "id": "QYK-d0YBeIfg",
        "outputId": "9ade5f7a-72d1-44b6-d5d7-c8003f77cfaa"
      },
      "execution_count": null,
      "outputs": [
        {
          "output_type": "stream",
          "name": "stdout",
          "text": [
            "<map object at 0x7f3230f9e9b0>\n",
            "<class 'map'>\n"
          ]
        }
      ]
    },
    {
      "cell_type": "code",
      "source": [
        "for ele in z:\n",
        "  print(z)   # here for last value we get zero division error"
      ],
      "metadata": {
        "colab": {
          "base_uri": "https://localhost:8080/",
          "height": 280
        },
        "id": "4q63WG7ceg2C",
        "outputId": "e0c6cbe3-cb25-461a-c916-772bfaed2808"
      },
      "execution_count": null,
      "outputs": [
        {
          "output_type": "stream",
          "name": "stdout",
          "text": [
            "<map object at 0x7f3230f9e9b0>\n",
            "<map object at 0x7f3230f9e9b0>\n",
            "<map object at 0x7f3230f9e9b0>\n"
          ]
        },
        {
          "output_type": "error",
          "ename": "ZeroDivisionError",
          "evalue": "division by zero",
          "traceback": [
            "\u001b[0;31m---------------------------------------------------------------------------\u001b[0m",
            "\u001b[0;31mZeroDivisionError\u001b[0m                         Traceback (most recent call last)",
            "\u001b[0;32m<ipython-input-19-f7320ce8ea61>\u001b[0m in \u001b[0;36m<cell line: 1>\u001b[0;34m()\u001b[0m\n\u001b[0;32m----> 1\u001b[0;31m \u001b[0;32mfor\u001b[0m \u001b[0mele\u001b[0m \u001b[0;32min\u001b[0m \u001b[0mz\u001b[0m\u001b[0;34m:\u001b[0m\u001b[0;34m\u001b[0m\u001b[0;34m\u001b[0m\u001b[0m\n\u001b[0m\u001b[1;32m      2\u001b[0m   \u001b[0mprint\u001b[0m\u001b[0;34m(\u001b[0m\u001b[0mz\u001b[0m\u001b[0;34m)\u001b[0m   \u001b[0;31m# here for last value we get zero division error\u001b[0m\u001b[0;34m\u001b[0m\u001b[0;34m\u001b[0m\u001b[0m\n",
            "\u001b[0;32m<ipython-input-18-8442ff649a72>\u001b[0m in \u001b[0;36m<lambda>\u001b[0;34m(x)\u001b[0m\n\u001b[0;32m----> 1\u001b[0;31m \u001b[0mz\u001b[0m \u001b[0;34m=\u001b[0m \u001b[0mmap\u001b[0m\u001b[0;34m(\u001b[0m\u001b[0;32mlambda\u001b[0m \u001b[0mx\u001b[0m \u001b[0;34m:\u001b[0m \u001b[0;36m1\u001b[0m\u001b[0;34m/\u001b[0m\u001b[0mx\u001b[0m\u001b[0;34m,\u001b[0m \u001b[0;34m[\u001b[0m\u001b[0;36m10\u001b[0m\u001b[0;34m,\u001b[0m \u001b[0;36m5\u001b[0m\u001b[0;34m,\u001b[0m \u001b[0;36m2\u001b[0m\u001b[0;34m,\u001b[0m \u001b[0;36m0\u001b[0m\u001b[0;34m]\u001b[0m\u001b[0;34m)\u001b[0m \u001b[0;31m# here we won't get the error at first\u001b[0m\u001b[0;34m\u001b[0m\u001b[0;34m\u001b[0m\u001b[0m\n\u001b[0m\u001b[1;32m      2\u001b[0m \u001b[0mprint\u001b[0m\u001b[0;34m(\u001b[0m\u001b[0mz\u001b[0m\u001b[0;34m,\u001b[0m \u001b[0mtype\u001b[0m\u001b[0;34m(\u001b[0m\u001b[0mz\u001b[0m\u001b[0;34m)\u001b[0m\u001b[0;34m,\u001b[0m \u001b[0msep\u001b[0m \u001b[0;34m=\u001b[0m \u001b[0;34m'\\n'\u001b[0m\u001b[0;34m)\u001b[0m\u001b[0;34m\u001b[0m\u001b[0;34m\u001b[0m\u001b[0m\n",
            "\u001b[0;31mZeroDivisionError\u001b[0m: division by zero"
          ]
        }
      ]
    },
    {
      "cell_type": "code",
      "source": [
        "z = map(lambda x : 1/x, [10, 5, 'abc', 0]) # here we won't get the error at first\n",
        "print(z, type(z), sep = '\\n')"
      ],
      "metadata": {
        "colab": {
          "base_uri": "https://localhost:8080/"
        },
        "id": "5qIkvCUUex_f",
        "outputId": "e29e92a9-03ad-4dcb-8b5f-e6bddcc7805f"
      },
      "execution_count": null,
      "outputs": [
        {
          "output_type": "stream",
          "name": "stdout",
          "text": [
            "<map object at 0x7f3230f9ed40>\n",
            "<class 'map'>\n"
          ]
        }
      ]
    },
    {
      "cell_type": "code",
      "source": [
        "for ele in z:\n",
        "  print(z)   # here when it tried to apply functionality on each ele when it encountered 1/'abc' it throws an error at that moment saying type error"
      ],
      "metadata": {
        "colab": {
          "base_uri": "https://localhost:8080/",
          "height": 228
        },
        "id": "ZHFJzoCTfVR-",
        "outputId": "7d7efb37-763a-4b15-d919-908df588c7be"
      },
      "execution_count": null,
      "outputs": [
        {
          "output_type": "error",
          "ename": "ZeroDivisionError",
          "evalue": "division by zero",
          "traceback": [
            "\u001b[0;31m---------------------------------------------------------------------------\u001b[0m",
            "\u001b[0;31mZeroDivisionError\u001b[0m                         Traceback (most recent call last)",
            "\u001b[0;32m<ipython-input-25-75bf4a3fe0f0>\u001b[0m in \u001b[0;36m<cell line: 1>\u001b[0;34m()\u001b[0m\n\u001b[0;32m----> 1\u001b[0;31m \u001b[0;32mfor\u001b[0m \u001b[0mele\u001b[0m \u001b[0;32min\u001b[0m \u001b[0mz\u001b[0m\u001b[0;34m:\u001b[0m\u001b[0;34m\u001b[0m\u001b[0;34m\u001b[0m\u001b[0m\n\u001b[0m\u001b[1;32m      2\u001b[0m   \u001b[0mprint\u001b[0m\u001b[0;34m(\u001b[0m\u001b[0mz\u001b[0m\u001b[0;34m)\u001b[0m   \u001b[0;31m# here when it tried to apply functionality on each ele when it encountered 1/'abc' it throws an error at that moment saying type error\u001b[0m\u001b[0;34m\u001b[0m\u001b[0;34m\u001b[0m\u001b[0m\n",
            "\u001b[0;32m<ipython-input-23-f640bc9c06e2>\u001b[0m in \u001b[0;36m<lambda>\u001b[0;34m(x)\u001b[0m\n\u001b[0;32m----> 1\u001b[0;31m \u001b[0mz\u001b[0m \u001b[0;34m=\u001b[0m \u001b[0mmap\u001b[0m\u001b[0;34m(\u001b[0m\u001b[0;32mlambda\u001b[0m \u001b[0mx\u001b[0m \u001b[0;34m:\u001b[0m \u001b[0;36m1\u001b[0m\u001b[0;34m/\u001b[0m\u001b[0mx\u001b[0m\u001b[0;34m,\u001b[0m \u001b[0;34m[\u001b[0m\u001b[0;36m10\u001b[0m\u001b[0;34m,\u001b[0m \u001b[0;36m5\u001b[0m\u001b[0;34m,\u001b[0m \u001b[0;34m'abc'\u001b[0m\u001b[0;34m,\u001b[0m \u001b[0;36m0\u001b[0m\u001b[0;34m]\u001b[0m\u001b[0;34m)\u001b[0m \u001b[0;31m# here we won't get the error at first\u001b[0m\u001b[0;34m\u001b[0m\u001b[0;34m\u001b[0m\u001b[0m\n\u001b[0m\u001b[1;32m      2\u001b[0m \u001b[0mprint\u001b[0m\u001b[0;34m(\u001b[0m\u001b[0mz\u001b[0m\u001b[0;34m,\u001b[0m \u001b[0mtype\u001b[0m\u001b[0;34m(\u001b[0m\u001b[0mz\u001b[0m\u001b[0;34m)\u001b[0m\u001b[0;34m,\u001b[0m \u001b[0msep\u001b[0m \u001b[0;34m=\u001b[0m \u001b[0;34m'\\n'\u001b[0m\u001b[0;34m)\u001b[0m\u001b[0;34m\u001b[0m\u001b[0;34m\u001b[0m\u001b[0m\n",
            "\u001b[0;31mZeroDivisionError\u001b[0m: division by zero"
          ]
        }
      ]
    },
    {
      "cell_type": "code",
      "source": [
        "# Task\n",
        "z = map(lambda x: x.upper(), ['himalayas','kanchenjunga','mounteverest'])"
      ],
      "metadata": {
        "id": "MlizNy0VfaAI"
      },
      "execution_count": null,
      "outputs": []
    },
    {
      "cell_type": "code",
      "source": [
        "lz = list(z)\n",
        "lz\n"
      ],
      "metadata": {
        "colab": {
          "base_uri": "https://localhost:8080/"
        },
        "id": "_QDMfoNDhBLR",
        "outputId": "92378925-0765-43f8-aaac-675a3d7ad149"
      },
      "execution_count": null,
      "outputs": [
        {
          "output_type": "execute_result",
          "data": {
            "text/plain": [
              "['HIMALAYAS', 'KANCHENJUNGA', 'MOUNTEVEREST']"
            ]
          },
          "metadata": {},
          "execution_count": 41
        }
      ]
    },
    {
      "cell_type": "markdown",
      "source": [
        "### filter()\n",
        "\n",
        "    syntax:\n",
        "\n",
        "    filter(function, iterator) ---> returns filter object\n",
        "\n",
        "\n",
        "* returns filter object\n",
        "* Works with <b> True or <b> False\n",
        "* True values will be returned\n",
        "* False values will be filterd out\n",
        "* Operation will be same as map()\n"
      ],
      "metadata": {
        "id": "-_wah-D5hEyL"
      }
    },
    {
      "cell_type": "code",
      "source": [
        "f = filter(lambda x : True if x%2 == 0 else False, [1,11,12,14,5])\n",
        "print(f, type(f), sep = '\\n')"
      ],
      "metadata": {
        "colab": {
          "base_uri": "https://localhost:8080/"
        },
        "id": "k4zyhsO5ikFy",
        "outputId": "2d89f42b-d759-4910-d439-ef8faac9d4ea"
      },
      "execution_count": null,
      "outputs": [
        {
          "output_type": "stream",
          "name": "stdout",
          "text": [
            "<filter object at 0x7f32311e1ff0>\n",
            "<class 'filter'>\n"
          ]
        }
      ]
    },
    {
      "cell_type": "code",
      "source": [
        "for ele in f:\n",
        "  print(ele)"
      ],
      "metadata": {
        "colab": {
          "base_uri": "https://localhost:8080/"
        },
        "id": "8DZlrJgfkaH1",
        "outputId": "62e7dc12-5ad1-4d2e-fd0a-ed858c4eb836"
      },
      "execution_count": null,
      "outputs": [
        {
          "output_type": "stream",
          "name": "stdout",
          "text": [
            "12\n",
            "14\n"
          ]
        }
      ]
    },
    {
      "cell_type": "markdown",
      "source": [
        "### reduce()\n",
        "* we need to import it using\n",
        "      import functools\n",
        "      from functools import reduce\n",
        "\n",
        "* reduce will always returns a single value\n",
        "* The function inside reduce will work only with exactly two arguments\n",
        "* reduce(function, iterator)"
      ],
      "metadata": {
        "id": "Kb2yy_SjmQrh"
      }
    },
    {
      "cell_type": "code",
      "source": [
        "import functools\n",
        "from functools import reduce"
      ],
      "metadata": {
        "id": "ZpHx68nHnC_R"
      },
      "execution_count": null,
      "outputs": []
    },
    {
      "cell_type": "code",
      "source": [
        "reduce(lambda x, y : x-2 * y, [1,2,3,4,5])"
      ],
      "metadata": {
        "colab": {
          "base_uri": "https://localhost:8080/"
        },
        "id": "FNFCFaC5oi6b",
        "outputId": "2764bcb1-20f3-449f-95bd-2e3a4b5144c8"
      },
      "execution_count": null,
      "outputs": [
        {
          "output_type": "execute_result",
          "data": {
            "text/plain": [
              "-27"
            ]
          },
          "metadata": {},
          "execution_count": 47
        }
      ]
    },
    {
      "cell_type": "code",
      "source": [],
      "metadata": {
        "id": "yfMuxl-OosxR"
      },
      "execution_count": null,
      "outputs": []
    },
    {
      "cell_type": "markdown",
      "source": [
        "\n",
        "Find a logic to accept n which is a positive number greater than 5 , and then using a input statement create a list of n strings\n",
        "\n",
        "1. Using input statement create a list of n strings\n",
        "2. Using a filter function return a list of strings which doesn't contain vowels\n",
        "3. Using another filter func return only those strings which contain atleast one vowel and the length of the string should be odd.\n",
        "\n",
        "**Hint** Use set methods for your advantage"
      ],
      "metadata": {
        "id": "yeFkT2qNkdWm"
      }
    }
  ]
}